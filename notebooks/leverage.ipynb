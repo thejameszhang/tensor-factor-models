{
 "cells": [
  {
   "cell_type": "code",
   "execution_count": 1,
   "metadata": {},
   "outputs": [
    {
     "name": "stdout",
     "output_type": "stream",
     "text": [
      "JAX is using device: cuda:0 [CudaDevice(id=0)]\n",
      "(594, 1, 9201, 34) (594, 23, 9201)\n",
      "(594, 1, 1811, 34) (594, 23, 1811)\n",
      "True\n",
      "Dropping factors ipo and const\n",
      "(552, 1, 12659, 107) (552, 23, 12659)\n",
      "(552, 1, 1955, 107) (552, 23, 1955)\n",
      "True\n",
      "Dropping const\n"
     ]
    }
   ],
   "source": [
    "import jax\n",
    "import jax.numpy as jnp\n",
    "import pickle \n",
    "import os\n",
    "import pandas as pd\n",
    "import numpy as np\n",
    "import matplotlib.pyplot as plt\n",
    "from scipy.stats import rankdata\n",
    "from tfm.utils._data import *\n",
    "from tfm.utils._constants import *\n",
    "\n",
    "jax.config.update(\"jax_enable_x64\", True)\n",
    "os.environ['CUDA_VISIBLE_DEVICES'] = \"1\"\n",
    "jax.config.update('jax_platform_name', 'gpu')\n",
    "print(\"JAX is using device:\", jax.devices()[0], jax.devices())\n",
    "\n",
    "mp = {}\n",
    "\n",
    "for dataset in ['scs', 'wrds']:\n",
    "\n",
    "    if dataset == 'scs':\n",
    "        data_path = '/home/james/projects/tsfc/code/code_11092024/data/tensor-data-SCS-ind-med-cap.npz'\n",
    "        dir_out = '/home/james/projects/tsfc/code/code_11092024/organized_data/organized_data/scs'\n",
    "    elif dataset == 'wrds':\n",
    "        data_path = '/home/james/projects/tsfc/code/code_11092024/data/tensor-data-miss-wrds-full.npz'\n",
    "        dir_out = '/home/james/projects/tsfc/code/code_11092024/organized_data/organized_data/wrds'\n",
    "\n",
    "    ########################################################################\n",
    "    ###### LOADING DATA, PREPROCESSING\n",
    "    ########################################################################\n",
    "\n",
    "    D = load_data(data_path, industry=dataset == 'scs')\n",
    "    C, R = jnp.nan_to_num(D['C']).astype(dtype_compact), jnp.nan_to_num(D['R']).astype(dtype_compact)\n",
    "    factor_names, idx_month = D['factor_names'], D['idx_month']\n",
    "    C = jnp.squeeze(C, axis=1)\n",
    "\n",
    "    if dataset == 'scs':\n",
    "        # characteristic 32 (IPO) always leading to nans, also remove const factor\n",
    "        print(f'Dropping factors {factor_names[32]} and {factor_names[33]}')\n",
    "        C = C[:, :, :32]\n",
    "        factor_names = factor_names[:32]\n",
    "    elif dataset == 'wrds':\n",
    "        print(f\"Dropping {factor_names[-1]}\")\n",
    "        C = C[:, :, :-1]\n",
    "        factor_names = factor_names[:-1]\n",
    "\n",
    "    assert not jnp.isnan(C).any().item()\n",
    "\n",
    "    def rank_norm_char(X):\n",
    "        \"\"\"\n",
    "        Rank characteristics\n",
    "        \"\"\"    \n",
    "        rank = rankdata(X, axis=0) / (X.shape[0] + 1)\n",
    "        rank = rank - rank.mean(axis=0)\n",
    "        rank = rank / jnp.abs(rank).sum(axis=0)\n",
    "        return rank\n",
    "\n",
    "    # Rank characterisics\n",
    "    rank_c = np.zeros(C.shape)\n",
    "    for t in jnp.arange(C.shape[0]):\n",
    "        rank_c[t, :, :] = rank_norm_char(C[t, :, :])\n",
    "    C = jnp.expand_dims(jnp.asarray(rank_c), axis=1)\n",
    "    T = C.shape[0]\n",
    "\n",
    "    # Aggregate daily returns into log returns\n",
    "    returns = []\n",
    "    for t in range(T):\n",
    "        r = R[t, :, :]\n",
    "        rt = jnp.exp(jnp.log(1 + r).sum(axis=0)) - 1\n",
    "        rt = jnp.expand_dims(rt, axis=0)\n",
    "        returns.append(rt)\n",
    "    R = jnp.concatenate(returns, axis=0)\n",
    "\n",
    "    # Construct factors and report annualized means and Sharpe Ratios\n",
    "    C = jnp.squeeze(C, axis=1)\n",
    "    F = jnp.squeeze(jnp.transpose(C, axes=(0, 2, 1)) @ R[..., None], axis=-1)\n",
    "    means = jnp.mean(F, axis=0) * 12\n",
    "    sharpes = (jnp.mean(F, axis=0) / jnp.std(F, axis=0)) * jnp.sqrt(12) \n",
    "    df = pd.DataFrame(data={\"Factor Means\": means, \"Sharpe Ratios\": sharpes}, index=factor_names)\n",
    "    df.index.name = \"Characteristic\"\n",
    "    mp[dataset] = df"
   ]
  },
  {
   "cell_type": "code",
   "execution_count": 2,
   "metadata": {},
   "outputs": [],
   "source": [
    "pd.set_option('display.max_rows', None)"
   ]
  },
  {
   "cell_type": "code",
   "execution_count": 3,
   "metadata": {},
   "outputs": [],
   "source": [
    "import jax\n",
    "import jax.numpy as jnp\n",
    "import pandas as pd\n",
    "# Read tensor data and parameters\n",
    "dir_input = '/home/james/projects/tsfc/code/code_11092024/organized_data/organized_data/char_anom'\n",
    "max_lag = 120\n",
    "X = jnp.load(f'{dir_input}/mat_ptf_re_lag_{max_lag}.npz')['mat_ptf_re_rank'] # dim: (T, max_lag, num_ptf)\n",
    "params = jnp.load(f'{dir_input}/dict_param_lag_{max_lag}.pkl', allow_pickle=True)\n",
    "num_ptf = X.shape[-1]\n",
    "\n",
    "bin_labels, _, _, max_lag, frac_longshort, all_dates, start_date_maxlag = params.values()\n",
    "F = X[:, 0, :]\n",
    "means = jnp.mean(F, axis=0) * 12\n",
    "sharpes = (jnp.mean(F, axis=0) / jnp.std(F, axis=0)) * jnp.sqrt(12) \n",
    "df = pd.DataFrame(data={\"Factor Means\": means, \"Sharpe Ratios\": sharpes}, index=bin_labels)\n",
    "df.index.name = \"Characteristic\"\n",
    "mp['char_anom'] = df"
   ]
  },
  {
   "cell_type": "code",
   "execution_count": 9,
   "metadata": {},
   "outputs": [
    {
     "data": {
      "text/html": [
       "<div>\n",
       "<style scoped>\n",
       "    .dataframe tbody tr th:only-of-type {\n",
       "        vertical-align: middle;\n",
       "    }\n",
       "\n",
       "    .dataframe tbody tr th {\n",
       "        vertical-align: top;\n",
       "    }\n",
       "\n",
       "    .dataframe thead th {\n",
       "        text-align: right;\n",
       "    }\n",
       "</style>\n",
       "<table border=\"1\" class=\"dataframe\">\n",
       "  <thead>\n",
       "    <tr style=\"text-align: right;\">\n",
       "      <th></th>\n",
       "      <th>Dataset</th>\n",
       "      <th>Average Factor Means</th>\n",
       "      <th>Average Sharpe Ratio</th>\n",
       "      <th>Average Absolute Factor Means</th>\n",
       "      <th>Average Absolute Sharpe Ratios</th>\n",
       "    </tr>\n",
       "  </thead>\n",
       "  <tbody>\n",
       "    <tr>\n",
       "      <th>0</th>\n",
       "      <td>scs</td>\n",
       "      <td>-0.003539</td>\n",
       "      <td>-0.101743</td>\n",
       "      <td>0.017006</td>\n",
       "      <td>0.414933</td>\n",
       "    </tr>\n",
       "    <tr>\n",
       "      <th>1</th>\n",
       "      <td>wrds</td>\n",
       "      <td>0.012417</td>\n",
       "      <td>0.422030</td>\n",
       "      <td>0.015567</td>\n",
       "      <td>0.514396</td>\n",
       "    </tr>\n",
       "    <tr>\n",
       "      <th>2</th>\n",
       "      <td>char_anom</td>\n",
       "      <td>0.004715</td>\n",
       "      <td>0.068120</td>\n",
       "      <td>0.017669</td>\n",
       "      <td>0.357240</td>\n",
       "    </tr>\n",
       "  </tbody>\n",
       "</table>\n",
       "</div>"
      ],
      "text/plain": [
       "     Dataset  Average Factor Means  Average Sharpe Ratio  \\\n",
       "0        scs             -0.003539             -0.101743   \n",
       "1       wrds              0.012417              0.422030   \n",
       "2  char_anom              0.004715              0.068120   \n",
       "\n",
       "   Average Absolute Factor Means  Average Absolute Sharpe Ratios  \n",
       "0                       0.017006                        0.414933  \n",
       "1                       0.015567                        0.514396  \n",
       "2                       0.017669                        0.357240  "
      ]
     },
     "execution_count": 9,
     "metadata": {},
     "output_type": "execute_result"
    }
   ],
   "source": [
    "data = []\n",
    "\n",
    "# Iterate over each dataset and calculate the required statistics\n",
    "for dataset in ['scs', 'wrds', 'char_anom']:\n",
    "    avg_factor_mean = mp[dataset]['Factor Means'].mean()\n",
    "    avg_sharpe_ratio = mp[dataset]['Sharpe Ratios'].mean()\n",
    "    avg_abs_factor_mean = mp[dataset]['Factor Means'].abs().mean()\n",
    "    avg_abs_sharpe_ratio = mp[dataset]['Sharpe Ratios'].abs().mean()\n",
    "    \n",
    "    # Append the results to the data list\n",
    "    data.append({\n",
    "        'Dataset': dataset,\n",
    "        'Average Factor Means': avg_factor_mean,\n",
    "        'Average Sharpe Ratio': avg_sharpe_ratio,\n",
    "        'Average Absolute Factor Means': avg_abs_factor_mean,\n",
    "        'Average Absolute Sharpe Ratios': avg_abs_sharpe_ratio\n",
    "    })\n",
    "\n",
    "# Create a DataFrame from the data list\n",
    "summary_df = pd.DataFrame(data)\n",
    "\n",
    "# Display the resulting DataFrame\n",
    "summary_df"
   ]
  },
  {
   "cell_type": "code",
   "execution_count": 1,
   "metadata": {},
   "outputs": [],
   "source": [
    "import jax.numpy as jnp\n",
    "\n",
    "dict_tensor_oos = jnp.load('/home/james/projects/tsfc/code/code_11092024/results_oos/multiperiod/scs/tensor_fig_oos_ret_rankptf_ver3/dict_tensor_oos_1982.pkl', allow_pickle=True)\n"
   ]
  },
  {
   "cell_type": "code",
   "execution_count": 3,
   "metadata": {},
   "outputs": [],
   "source": [
    "ret = dict_tensor_oos['TFM'][36]"
   ]
  },
  {
   "cell_type": "code",
   "execution_count": 9,
   "metadata": {},
   "outputs": [
    {
     "data": {
      "text/plain": [
       "(320, 36, 7)"
      ]
     },
     "execution_count": 9,
     "metadata": {},
     "output_type": "execute_result"
    }
   ],
   "source": [
    "ret.shape"
   ]
  },
  {
   "cell_type": "code",
   "execution_count": null,
   "metadata": {},
   "outputs": [],
   "source": []
  }
 ],
 "metadata": {
  "kernelspec": {
   "display_name": "Python 3",
   "language": "python",
   "name": "python3"
  },
  "language_info": {
   "codemirror_mode": {
    "name": "ipython",
    "version": 3
   },
   "file_extension": ".py",
   "mimetype": "text/x-python",
   "name": "python",
   "nbconvert_exporter": "python",
   "pygments_lexer": "ipython3",
   "version": "undefined.undefined.undefined"
  }
 },
 "nbformat": 4,
 "nbformat_minor": 2
}
