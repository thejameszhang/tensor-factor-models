{
 "cells": [
  {
   "cell_type": "code",
   "execution_count": 36,
   "metadata": {},
   "outputs": [],
   "source": [
    "import jax\n",
    "import jax.numpy as jnp\n",
    "import pandas as pd\n",
    "max_horizon = 36\n",
    "jax.config.update(\"jax_enable_x64\", True)\n",
    "lst_K = [1, 3, 5, 10, 15, 20, 25]\n",
    "dataset = 'scs'\n",
    "gamma = -1\n",
    "lag = 36"
   ]
  },
  {
   "cell_type": "code",
   "execution_count": 37,
   "metadata": {},
   "outputs": [],
   "source": [
    "tensor_dir_in = f'/home/james/projects/tsfc/code/code_11092024/results_oos/multiperiod/{dataset}/tensor_fig_oos_ret_rankptf_ver3/'\n",
    "dict_tensor_oos = jnp.load(tensor_dir_in + 'dict_tensor_oos_1982.pkl', allow_pickle=True)\n",
    "pca_dir_in = f'/home/james/projects/tsfc/code/code_11092024/results_oos/multiperiod/{dataset}/pca_fig_oos_ret_rankptf_ver3/'\n",
    "dict_pca_oos = jnp.load(pca_dir_in + 'dict_pca_oos_1982.pkl', allow_pickle=True)\n",
    "\n",
    "sr_lst = []\n",
    "for horizon in range(1, max_horizon + 1):\n",
    "    sr = dict_pca_oos[gamma][horizon].mean(axis=1) / dict_pca_oos[gamma][horizon].std(axis=1)\n",
    "    sr_lst.append(jnp.expand_dims(sr, axis=0))\n",
    "\n",
    "sr_pca = jnp.concatenate(sr_lst, axis=0) # dim: (max_horizon, len(lst_K))\n",
    "sr_tensor = dict_tensor_oos[\"TFM\"][lag].mean(axis=0) / dict_tensor_oos[\"TFM\"][lag].std(axis=0)"
   ]
  },
  {
   "cell_type": "code",
   "execution_count": 41,
   "metadata": {},
   "outputs": [
    {
     "data": {
      "text/plain": [
       "(Array(0.11038117, dtype=float64), 1)"
      ]
     },
     "execution_count": 41,
     "metadata": {},
     "output_type": "execute_result"
    }
   ],
   "source": [
    "x = sr_pca[:, 0]\n",
    "y = sr_tensor[:, 0]\n",
    "jnp.mean(y - x), lst_K[0]"
   ]
  },
  {
   "cell_type": "code",
   "execution_count": 78,
   "metadata": {},
   "outputs": [
    {
     "data": {
      "text/plain": [
       "Array([0.4193373 , 0.37112065, 0.32629429, 0.2969318 , 0.28099487,\n",
       "       0.25949437, 0.13386099, 0.07585626, 0.07295683, 0.07940755,\n",
       "       0.09878111, 0.11818797, 0.14894346, 0.17217478, 0.1895464 ,\n",
       "       0.20583558, 0.22186856, 0.22923145, 0.23475323, 0.2387511 ,\n",
       "       0.2470701 , 0.25523704, 0.25887307, 0.26392608, 0.26916663,\n",
       "       0.27062835, 0.27147279, 0.27107705, 0.27201321, 0.27180501,\n",
       "       0.27007151, 0.26777731, 0.26089671, 0.25390391, 0.24504195,\n",
       "       0.23693364], dtype=float64)"
      ]
     },
     "execution_count": 78,
     "metadata": {},
     "output_type": "execute_result"
    }
   ],
   "source": [
    "y = sr_pca[:, 0]\n",
    "\n",
    "y * jnp.sqrt(1 / jnp.arange(1, 37)) * jnp.sqrt(12)"
   ]
  },
  {
   "cell_type": "code",
   "execution_count": 69,
   "metadata": {},
   "outputs": [
    {
     "data": {
      "text/plain": [
       "Array([0.50786427, 0.60541793, 0.7121959 , 0.81854574, 0.86131744,\n",
       "       0.89949768, 0.93202775, 0.96784028, 0.99853802, 1.01859176,\n",
       "       1.04232528, 1.04251084, 1.05382212, 1.06132026, 1.05306033,\n",
       "       1.0443778 , 1.03541013, 1.02813382, 1.02820339, 1.0320684 ,\n",
       "       1.04121321, 1.04142217, 1.04882719, 1.05428774, 1.06146839,\n",
       "       1.06858731, 1.07421879, 1.07242219, 1.07872479, 1.07799458,\n",
       "       1.08939502, 1.08986177, 1.09392505, 1.09851547, 1.1089901 ,\n",
       "       1.11277326], dtype=float64)"
      ]
     },
     "execution_count": 69,
     "metadata": {},
     "output_type": "execute_result"
    }
   ],
   "source": [
    "temp = dict_tensor_oos[\"TFM\"][36][:, :, 6]\n",
    "(temp.mean(axis=0) / temp.std(axis=0)) / jnp.ar"
   ]
  },
  {
   "cell_type": "code",
   "execution_count": 4,
   "metadata": {},
   "outputs": [
    {
     "data": {
      "text/plain": [
       "Array(2.34636166, dtype=float64)"
      ]
     },
     "execution_count": 4,
     "metadata": {},
     "output_type": "execute_result"
    }
   ],
   "source": [
    "(y[-1] - x[-1]) / x[-1]"
   ]
  },
  {
   "cell_type": "code",
   "execution_count": 33,
   "metadata": {},
   "outputs": [],
   "source": [
    "def mean_log_sharpe_diff(dataset: str, gamma: int, lag: int, percentage: bool = False):\n",
    "    tensor_dir_in = f'/home/james/projects/tsfc/code/code_11092024/results_oos/multiperiod/{dataset}/tensor_fig_oos_ret_rankptf_ver3/'\n",
    "    dict_tensor_oos = jnp.load(tensor_dir_in + 'dict_tensor_oos_1982.pkl', allow_pickle=True)\n",
    "    pca_dir_in = f'/home/james/projects/tsfc/code/code_11092024/results_oos/multiperiod/{dataset}/pca_fig_oos_ret_rankptf_ver3/'\n",
    "    dict_pca_oos = jnp.load(pca_dir_in + 'dict_pca_oos_1982.pkl', allow_pickle=True)\n",
    "    \n",
    "    sr_lst = []\n",
    "    for horizon in range(1, max_horizon + 1):\n",
    "        sr = dict_pca_oos[gamma][horizon].mean(axis=1) / dict_pca_oos[gamma][horizon].std(axis=1)\n",
    "        sr_lst.append(jnp.expand_dims(sr, axis=0))\n",
    "\n",
    "    sr_pca = jnp.concatenate(sr_lst, axis=0) # dim: (max_horizon, len(lst_K))\n",
    "    sr_tensor = dict_tensor_oos[\"TFM\"][lag].mean(axis=0) / dict_tensor_oos[\"TFM\"][lag].std(axis=0)\n",
    "    if percentage:\n",
    "        data = jnp.mean((sr_tensor - sr_pca) / sr_pca, axis=0)\n",
    "    else:\n",
    "        data = jnp.mean(sr_tensor - sr_pca, axis=0)\n",
    "\n",
    "    df = pd.DataFrame(data)\n",
    "    df.columns = [f'{dataset}, Gamma={gamma}, Lag={lag}']  # Update column name\n",
    "    df.index = lst_K \n",
    "    return df"
   ]
  },
  {
   "cell_type": "code",
   "execution_count": 35,
   "metadata": {},
   "outputs": [
    {
     "data": {
      "text/html": [
       "<div>\n",
       "<style scoped>\n",
       "    .dataframe tbody tr th:only-of-type {\n",
       "        vertical-align: middle;\n",
       "    }\n",
       "\n",
       "    .dataframe tbody tr th {\n",
       "        vertical-align: top;\n",
       "    }\n",
       "\n",
       "    .dataframe thead th {\n",
       "        text-align: right;\n",
       "    }\n",
       "</style>\n",
       "<table border=\"1\" class=\"dataframe\">\n",
       "  <thead>\n",
       "    <tr style=\"text-align: right;\">\n",
       "      <th></th>\n",
       "      <th>scs, Gamma=-1, Lag=36</th>\n",
       "    </tr>\n",
       "  </thead>\n",
       "  <tbody>\n",
       "    <tr>\n",
       "      <th>1</th>\n",
       "      <td>0.110381</td>\n",
       "    </tr>\n",
       "    <tr>\n",
       "      <th>3</th>\n",
       "      <td>0.067687</td>\n",
       "    </tr>\n",
       "    <tr>\n",
       "      <th>5</th>\n",
       "      <td>0.273864</td>\n",
       "    </tr>\n",
       "    <tr>\n",
       "      <th>10</th>\n",
       "      <td>0.512959</td>\n",
       "    </tr>\n",
       "    <tr>\n",
       "      <th>15</th>\n",
       "      <td>0.567720</td>\n",
       "    </tr>\n",
       "    <tr>\n",
       "      <th>20</th>\n",
       "      <td>0.584478</td>\n",
       "    </tr>\n",
       "    <tr>\n",
       "      <th>25</th>\n",
       "      <td>0.478860</td>\n",
       "    </tr>\n",
       "  </tbody>\n",
       "</table>\n",
       "</div>"
      ],
      "text/plain": [
       "    scs, Gamma=-1, Lag=36\n",
       "1                0.110381\n",
       "3                0.067687\n",
       "5                0.273864\n",
       "10               0.512959\n",
       "15               0.567720\n",
       "20               0.584478\n",
       "25               0.478860"
      ]
     },
     "execution_count": 35,
     "metadata": {},
     "output_type": "execute_result"
    }
   ],
   "source": [
    "mean_log_sharpe_diff('scs', -1, 36)"
   ]
  },
  {
   "cell_type": "code",
   "execution_count": 29,
   "metadata": {},
   "outputs": [
    {
     "data": {
      "text/html": [
       "<div>\n",
       "<style scoped>\n",
       "    .dataframe tbody tr th:only-of-type {\n",
       "        vertical-align: middle;\n",
       "    }\n",
       "\n",
       "    .dataframe tbody tr th {\n",
       "        vertical-align: top;\n",
       "    }\n",
       "\n",
       "    .dataframe thead th {\n",
       "        text-align: right;\n",
       "    }\n",
       "</style>\n",
       "<table border=\"1\" class=\"dataframe\">\n",
       "  <thead>\n",
       "    <tr style=\"text-align: right;\">\n",
       "      <th></th>\n",
       "      <th>scs, Gamma=10, Lag=36</th>\n",
       "    </tr>\n",
       "  </thead>\n",
       "  <tbody>\n",
       "    <tr>\n",
       "      <th>1</th>\n",
       "      <td>0.157782</td>\n",
       "    </tr>\n",
       "    <tr>\n",
       "      <th>3</th>\n",
       "      <td>0.252800</td>\n",
       "    </tr>\n",
       "    <tr>\n",
       "      <th>5</th>\n",
       "      <td>0.322152</td>\n",
       "    </tr>\n",
       "    <tr>\n",
       "      <th>10</th>\n",
       "      <td>0.737776</td>\n",
       "    </tr>\n",
       "    <tr>\n",
       "      <th>15</th>\n",
       "      <td>0.923209</td>\n",
       "    </tr>\n",
       "    <tr>\n",
       "      <th>20</th>\n",
       "      <td>0.728615</td>\n",
       "    </tr>\n",
       "    <tr>\n",
       "      <th>25</th>\n",
       "      <td>0.603557</td>\n",
       "    </tr>\n",
       "  </tbody>\n",
       "</table>\n",
       "</div>"
      ],
      "text/plain": [
       "    scs, Gamma=10, Lag=36\n",
       "1                0.157782\n",
       "3                0.252800\n",
       "5                0.322152\n",
       "10               0.737776\n",
       "15               0.923209\n",
       "20               0.728615\n",
       "25               0.603557"
      ]
     },
     "execution_count": 29,
     "metadata": {},
     "output_type": "execute_result"
    }
   ],
   "source": [
    "mean_log_sharpe_diff('scs', 10, 36, True)"
   ]
  },
  {
   "cell_type": "code",
   "execution_count": null,
   "metadata": {},
   "outputs": [],
   "source": []
  }
 ],
 "metadata": {
  "kernelspec": {
   "display_name": "Python 3",
   "language": "python",
   "name": "python3"
  },
  "language_info": {
   "codemirror_mode": {
    "name": "ipython",
    "version": 3
   },
   "file_extension": ".py",
   "mimetype": "text/x-python",
   "name": "python",
   "nbconvert_exporter": "python",
   "pygments_lexer": "ipython3",
   "version": "3.12.7"
  }
 },
 "nbformat": 4,
 "nbformat_minor": 2
}
