{
 "cells": [
  {
   "cell_type": "code",
   "execution_count": 1,
   "metadata": {},
   "outputs": [],
   "source": [
    "import jax\n",
    "import jax.numpy as jnp\n",
    "jax.config.update(\"jax_enable_x64\", True)"
   ]
  },
  {
   "cell_type": "markdown",
   "metadata": {},
   "source": [
    "$(yx^\\top) \\odot A = D_y A D_x^\\top?$\n",
    "\n",
    "- okay this works!!!!"
   ]
  },
  {
   "cell_type": "code",
   "execution_count": 2,
   "metadata": {},
   "outputs": [],
   "source": [
    "A = jnp.array([\n",
    "    [2.0, -1.0, 0.5],\n",
    "    [-1.0, 3.0, 1.5],\n",
    "    [0.5, 1.5, 4.0]\n",
    "])"
   ]
  },
  {
   "cell_type": "code",
   "execution_count": 3,
   "metadata": {},
   "outputs": [
    {
     "data": {
      "text/plain": [
       "Array([[16, 20,  8],\n",
       "       [20, 25, 10],\n",
       "       [ 8, 10,  4]], dtype=int64)"
      ]
     },
     "execution_count": 3,
     "metadata": {},
     "output_type": "execute_result"
    }
   ],
   "source": [
    "x = jnp.array([4, 5, 2])\n",
    "x[..., None] @ x[..., None].T"
   ]
  },
  {
   "cell_type": "code",
   "execution_count": 4,
   "metadata": {},
   "outputs": [
    {
     "data": {
      "text/plain": [
       "Array([[ 32., -20.,   4.],\n",
       "       [-20.,  75.,  15.],\n",
       "       [  4.,  15.,  16.]], dtype=float64)"
      ]
     },
     "execution_count": 4,
     "metadata": {},
     "output_type": "execute_result"
    }
   ],
   "source": [
    "(x[..., None] @ x[..., None].T) * A"
   ]
  },
  {
   "cell_type": "code",
   "execution_count": 5,
   "metadata": {},
   "outputs": [
    {
     "data": {
      "text/plain": [
       "Array([[ 32., -20.,   4.],\n",
       "       [-20.,  75.,  15.],\n",
       "       [  4.,  15.,  16.]], dtype=float64)"
      ]
     },
     "execution_count": 5,
     "metadata": {},
     "output_type": "execute_result"
    }
   ],
   "source": [
    "jnp.diag(x) @ A @ jnp.diag(x).T"
   ]
  },
  {
   "cell_type": "code",
   "execution_count": 6,
   "metadata": {},
   "outputs": [],
   "source": [
    "y = jnp.array([3, 8, 1])"
   ]
  },
  {
   "cell_type": "code",
   "execution_count": 7,
   "metadata": {},
   "outputs": [
    {
     "data": {
      "text/plain": [
       "Array([[ 50. , -44. ,   5.5],\n",
       "       [-44. , 267. ,  27. ],\n",
       "       [  5.5,  27. ,  20. ]], dtype=float64)"
      ]
     },
     "execution_count": 7,
     "metadata": {},
     "output_type": "execute_result"
    }
   ],
   "source": [
    "(x[..., None] @ x[..., None].T + y[..., None] @ y[..., None].T) * A"
   ]
  },
  {
   "cell_type": "code",
   "execution_count": 8,
   "metadata": {},
   "outputs": [
    {
     "data": {
      "text/plain": [
       "Array([[ 50. , -44. ,   5.5],\n",
       "       [-44. , 267. ,  27. ],\n",
       "       [  5.5,  27. ,  20. ]], dtype=float64)"
      ]
     },
     "execution_count": 8,
     "metadata": {},
     "output_type": "execute_result"
    }
   ],
   "source": [
    "jnp.diag(x) @ A @ jnp.diag(x).T + jnp.diag(y) @ A @ jnp.diag(y).T"
   ]
  },
  {
   "cell_type": "code",
   "execution_count": 9,
   "metadata": {},
   "outputs": [
    {
     "data": {
      "text/plain": [
       "(Array([[4, 0, 0],\n",
       "        [0, 5, 0],\n",
       "        [0, 0, 2]], dtype=int64),\n",
       " Array([[ 2. , -1. ,  0.5],\n",
       "        [-1. ,  3. ,  1.5],\n",
       "        [ 0.5,  1.5,  4. ]], dtype=float64))"
      ]
     },
     "execution_count": 9,
     "metadata": {},
     "output_type": "execute_result"
    }
   ],
   "source": [
    "jnp.diag(x), A"
   ]
  },
  {
   "cell_type": "code",
   "execution_count": 10,
   "metadata": {},
   "outputs": [
    {
     "data": {
      "text/plain": [
       "(Array([[ 32., -20.,   4.],\n",
       "        [-20.,  75.,  15.],\n",
       "        [  4.,  15.,  16.]], dtype=float64),\n",
       " Array([[ 32., -20.,   4.],\n",
       "        [-20.,  75.,  15.],\n",
       "        [  4.,  15.,  16.]], dtype=float64))"
      ]
     },
     "execution_count": 10,
     "metadata": {},
     "output_type": "execute_result"
    }
   ],
   "source": [
    "jnp.diag(x) @ A @ jnp.diag(x), x[..., None] @ x[..., None].T * A"
   ]
  },
  {
   "cell_type": "markdown",
   "metadata": {},
   "source": [
    "simplifying inverses of a sum\n",
    "\n",
    "$$(A+B)^{-1} = A^{-1} - A^{-1} (I + B A^{-1})^{-1} B A^{-1}$$\n",
    "\n",
    "Or Hua's Identity\n",
    "\n",
    "$$(A+B)^{-1} = A^{-1} - (A^{-1} + A B^{-1} A)^{-1}$$\n",
    "\n",
    "For us, we are interested in \n",
    "\n",
    "$$(D_{W_0} V D_{W_0} + D_{W_1} V D_{W_1})^{-1}$$ \n",
    "\n",
    "Note that $A^{-1} = D_{W_0}^{-1} V^{-1} D_{W_0}^{-1}$ and $B = D_{W_1} V D_{W_1}$\n",
    "\n",
    "Using Hua's Identity\n",
    "$$(A+B)^{-1} = D_{W_0}^{-1} V^{-1} D_{W_0}^{-1} - (D_{W_0}^{-1} V^{-1} D_{W_0}^{-1} + D_{W_0} V D_{W_0} D_{W_1}^{-1} V^{-1} D_{W_1}^{-1} D_{W_0} V D_{W_0})^{-1}$$"
   ]
  },
  {
   "cell_type": "code",
   "execution_count": 13,
   "metadata": {},
   "outputs": [
    {
     "data": {
      "text/plain": [
       "((3, 3), (36, 5))"
      ]
     },
     "execution_count": 13,
     "metadata": {},
     "output_type": "execute_result"
    }
   ],
   "source": [
    "T = 120\n",
    "K = 5 \n",
    "L = 36\n",
    "key = jax.random.key(12)\n",
    "\n",
    "F = jax.random.randint(key=key, shape=(T, K), minval=1, maxval=5)\n",
    "W = jax.random.randint(key=key, shape=(L, K), minval=1, maxval=3)\n",
    "\n",
    "A.shape, W.shape"
   ]
  },
  {
   "cell_type": "code",
   "execution_count": 14,
   "metadata": {},
   "outputs": [
    {
     "data": {
      "text/plain": [
       "(5, 5)"
      ]
     },
     "execution_count": 14,
     "metadata": {},
     "output_type": "execute_result"
    }
   ],
   "source": [
    "cov = jnp.cov(F.T)\n",
    "cov.shape"
   ]
  },
  {
   "cell_type": "code",
   "execution_count": 15,
   "metadata": {},
   "outputs": [],
   "source": [
    "L, Q = jnp.linalg.eigh(cov)"
   ]
  },
  {
   "cell_type": "code",
   "execution_count": 17,
   "metadata": {},
   "outputs": [
    {
     "data": {
      "text/plain": [
       "Array([ 1.22080624, -0.51296942, -0.34413815,  0.55836835,  0.7250306 ],      dtype=float64)"
      ]
     },
     "execution_count": 17,
     "metadata": {},
     "output_type": "execute_result"
    }
   ],
   "source": [
    "X = jnp.diag(W[0]) @ Q\n",
    "X[:, 0]"
   ]
  },
  {
   "cell_type": "code",
   "execution_count": 18,
   "metadata": {},
   "outputs": [
    {
     "data": {
      "text/plain": [
       "(Array([[ 0.61040312, -0.39172893,  0.44928992,  0.20488956,  0.47970336],\n",
       "        [-0.25648471,  0.51133311, -0.00220414, -0.14396639,  0.80747933],\n",
       "        [-0.34413815,  0.18772717,  0.89013769, -0.02765554, -0.23068921],\n",
       "        [ 0.55836835,  0.3567835 ,  0.0721401 , -0.72403853, -0.17746644],\n",
       "        [ 0.3625153 ,  0.65003918, -0.02417472,  0.64210383, -0.18207133]],      dtype=float64),\n",
       " Array([[2, 0, 0, 0, 0],\n",
       "        [0, 2, 0, 0, 0],\n",
       "        [0, 0, 1, 0, 0],\n",
       "        [0, 0, 0, 1, 0],\n",
       "        [0, 0, 0, 0, 2]], dtype=int64))"
      ]
     },
     "execution_count": 18,
     "metadata": {},
     "output_type": "execute_result"
    }
   ],
   "source": [
    "Q, jnp.diag(W[0])"
   ]
  },
  {
   "cell_type": "code",
   "execution_count": 19,
   "metadata": {},
   "outputs": [
    {
     "data": {
      "text/plain": [
       "Array([ 1.22080624, -0.78345786,  0.89857983,  0.40977913,  0.95940672],      dtype=float64)"
      ]
     },
     "execution_count": 19,
     "metadata": {},
     "output_type": "execute_result"
    }
   ],
   "source": [
    "(Q.T @ jnp.diag(W[0])[:, 0])"
   ]
  },
  {
   "cell_type": "code",
   "execution_count": 20,
   "metadata": {},
   "outputs": [
    {
     "data": {
      "text/plain": [
       "Array([[ 1.22080624, -0.51296942, -0.34413815,  0.55836835,  0.7250306 ],\n",
       "       [-0.78345786,  1.02266622,  0.18772717,  0.3567835 ,  1.30007837],\n",
       "       [ 0.89857983, -0.00440827,  0.89013769,  0.0721401 , -0.04834944],\n",
       "       [ 0.40977913, -0.28793279, -0.02765554, -0.72403853,  1.28420766],\n",
       "       [ 0.95940672,  1.61495866, -0.23068921, -0.17746644, -0.36414267]],      dtype=float64)"
      ]
     },
     "execution_count": 20,
     "metadata": {},
     "output_type": "execute_result"
    }
   ],
   "source": [
    "(Q.T @ jnp.diag(W[0]))"
   ]
  },
  {
   "cell_type": "code",
   "execution_count": 21,
   "metadata": {},
   "outputs": [
    {
     "data": {
      "text/plain": [
       "Array([[ 1.22080624, -0.78345786,  0.89857983,  0.40977913,  0.95940672],\n",
       "       [-0.51296942,  1.02266622, -0.00440827, -0.28793279,  1.61495866],\n",
       "       [-0.34413815,  0.18772717,  0.89013769, -0.02765554, -0.23068921],\n",
       "       [ 0.55836835,  0.3567835 ,  0.0721401 , -0.72403853, -0.17746644],\n",
       "       [ 0.7250306 ,  1.30007837, -0.04834944,  1.28420766, -0.36414267]],      dtype=float64)"
      ]
     },
     "execution_count": 21,
     "metadata": {},
     "output_type": "execute_result"
    }
   ],
   "source": [
    "jnp.diag(W[0]) @ Q"
   ]
  },
  {
   "cell_type": "code",
   "execution_count": 25,
   "metadata": {},
   "outputs": [
    {
     "data": {
      "text/plain": [
       "Array([[19.42738095,  2.13298319,  0.34621849, -1.9697479 , -0.54530812],\n",
       "       [ 2.13298319, 10.97983193, -0.8       ,  0.05378151, -0.68634454],\n",
       "       [ 0.34621849, -0.8       , 12.7070028 ,  0.73389356,  0.34537815],\n",
       "       [-1.9697479 ,  0.05378151,  0.73389356, 13.48347339, -1.77478992],\n",
       "       [-0.54530812, -0.68634454,  0.34537815, -1.77478992, 13.49502801]],      dtype=float64)"
      ]
     },
     "execution_count": 25,
     "metadata": {},
     "output_type": "execute_result"
    }
   ],
   "source": [
    "curr = jnp.zeros((K, K))\n",
    "for i in range(5):\n",
    "    curr += W[i][..., None] @ W[i][..., None].T\n",
    "curr * cov"
   ]
  },
  {
   "cell_type": "code",
   "execution_count": 26,
   "metadata": {},
   "outputs": [
    {
     "data": {
      "text/plain": [
       "Array([[19.42738095,  2.13298319,  0.34621849, -1.9697479 , -0.54530812],\n",
       "       [ 2.13298319, 10.97983193, -0.8       ,  0.05378151, -0.68634454],\n",
       "       [ 0.34621849, -0.8       , 12.7070028 ,  0.73389356,  0.34537815],\n",
       "       [-1.9697479 ,  0.05378151,  0.73389356, 13.48347339, -1.77478992],\n",
       "       [-0.54530812, -0.68634454,  0.34537815, -1.77478992, 13.49502801]],      dtype=float64)"
      ]
     },
     "execution_count": 26,
     "metadata": {},
     "output_type": "execute_result"
    }
   ],
   "source": [
    "curr2 = jnp.zeros((K, K))\n",
    "for i in range(5):\n",
    "    curr2 += jnp.diag(W[i]) @ cov @ jnp.diag(W[i])\n",
    "curr2"
   ]
  },
  {
   "cell_type": "markdown",
   "metadata": {},
   "source": [
    "what is below"
   ]
  },
  {
   "cell_type": "code",
   "execution_count": 21,
   "metadata": {},
   "outputs": [],
   "source": [
    "A = jnp.diag(W[0]) @ cov @ jnp.diag(W[0]).T\n",
    "B = jnp.diag(W[1]) @ cov @ jnp.diag(W[1]).T"
   ]
  },
  {
   "cell_type": "code",
   "execution_count": 14,
   "metadata": {},
   "outputs": [
    {
     "data": {
      "text/plain": [
       "(Array(False, dtype=bool), Array(False, dtype=bool), Array(False, dtype=bool))"
      ]
     },
     "execution_count": 14,
     "metadata": {},
     "output_type": "execute_result"
    }
   ],
   "source": [
    "jnp.isnan(A).any(), jnp.isnan(B).any(), jnp.isnan(cov).any()"
   ]
  },
  {
   "cell_type": "code",
   "execution_count": 15,
   "metadata": {},
   "outputs": [],
   "source": [
    "one = jnp.linalg.inv(A + B)"
   ]
  },
  {
   "cell_type": "code",
   "execution_count": 16,
   "metadata": {},
   "outputs": [],
   "source": [
    "inv_A = jnp.linalg.inv(A)\n",
    "two = inv_A - inv_A @ jnp.linalg.inv(jnp.eye(K) + B @ inv_A) @ B @ inv_A"
   ]
  },
  {
   "cell_type": "code",
   "execution_count": 17,
   "metadata": {},
   "outputs": [
    {
     "data": {
      "text/plain": [
       "Array(True, dtype=bool)"
      ]
     },
     "execution_count": 17,
     "metadata": {},
     "output_type": "execute_result"
    }
   ],
   "source": [
    "jnp.allclose(one, two)"
   ]
  },
  {
   "cell_type": "code",
   "execution_count": 18,
   "metadata": {},
   "outputs": [],
   "source": [
    "# Hua's identity\n",
    "three = inv_A - jnp.linalg.inv(A + A @ jnp.linalg.inv(B) @ A)\n"
   ]
  },
  {
   "cell_type": "code",
   "execution_count": 19,
   "metadata": {},
   "outputs": [
    {
     "data": {
      "text/plain": [
       "Array(True, dtype=bool)"
      ]
     },
     "execution_count": 19,
     "metadata": {},
     "output_type": "execute_result"
    }
   ],
   "source": [
    "jnp.allclose(one, three)"
   ]
  },
  {
   "cell_type": "markdown",
   "metadata": {},
   "source": [
    "sums of PSD"
   ]
  },
  {
   "cell_type": "code",
   "execution_count": null,
   "metadata": {},
   "outputs": [
    {
     "name": "stdout",
     "output_type": "stream",
     "text": [
      "Test case 1 (3x3 matrices):\n",
      "Maximum difference: 9.536743e-07\n",
      "Are results equal? True\n",
      "\n",
      "Test case 2 (5x5 matrices):\n",
      "Maximum difference: 4.7683716e-07\n",
      "Are results equal? True\n",
      "\n",
      "Test case 3 (X = Identity):\n",
      "Maximum difference: 9.536743e-07\n",
      "Are results equal? True\n"
     ]
    }
   ],
   "source": [
    "import jax.numpy as jnp\n",
    "from jax import random\n",
    "import numpy as np\n",
    "\n",
    "def explicit_form(A, B, X):\n",
    "    \"\"\"Compute result using element-wise explicit formula\"\"\"\n",
    "    n = A.shape[0]\n",
    "    result = jnp.zeros((n, n))\n",
    "    \n",
    "    for i in range(n):\n",
    "        for j in range(n):\n",
    "            # Sum_k x_k * (a_ki * a_kj + b_ki * b_kj)\n",
    "            element = 0\n",
    "            for k in range(n):\n",
    "                element += X[k,k] * (A[k,i] * A[k,j] + B[k,i] * B[k,j])\n",
    "            result = result.at[i,j].set(element)\n",
    "    \n",
    "    return result\n",
    "\n",
    "def matrix_form(A, B, X):\n",
    "    \"\"\"Compute using matrix multiplication A^T X A + B^T X B\"\"\"\n",
    "    return A.T @ X @ A + B.T @ X @ B\n",
    "\n",
    "# Test cases\n",
    "def run_tests():\n",
    "    key = random.PRNGKey(0)\n",
    "    \n",
    "    # Test case 1: Small matrices (3x3)\n",
    "    n = 3\n",
    "    key, subkey1, subkey2 = random.split(key, 3)\n",
    "    A = random.normal(subkey1, (n, n))\n",
    "    B = random.normal(subkey2, (n, n))\n",
    "    X = jnp.diag(random.uniform(key, (n,)))  # diagonal matrix\n",
    "    \n",
    "    result_explicit = explicit_form(A, B, X)\n",
    "    result_matrix = matrix_form(A, B, X)\n",
    "    \n",
    "    print(\"Test case 1 (3x3 matrices):\")\n",
    "    print(\"Maximum difference:\", jnp.max(jnp.abs(result_explicit - result_matrix)))\n",
    "    print(\"Are results equal?\", jnp.allclose(result_explicit, result_matrix))\n",
    "    \n",
    "    # Test case 2: Larger matrices (5x5)\n",
    "    n = 5\n",
    "    key, subkey1, subkey2 = random.split(key, 3)\n",
    "    A = random.normal(subkey1, (n, n))\n",
    "    B = random.normal(subkey2, (n, n))\n",
    "    X = jnp.diag(random.uniform(key, (n,)))\n",
    "    \n",
    "    result_explicit = explicit_form(A, B, X)\n",
    "    result_matrix = matrix_form(A, B, X)\n",
    "    \n",
    "    print(\"\\nTest case 2 (5x5 matrices):\")\n",
    "    print(\"Maximum difference:\", jnp.max(jnp.abs(result_explicit - result_matrix)))\n",
    "    print(\"Are results equal?\", jnp.allclose(result_explicit, result_matrix))\n",
    "    \n",
    "    # Test case 3: Special case with identity matrix for X\n",
    "    X = jnp.eye(n)\n",
    "    \n",
    "    result_explicit = explicit_form(A, B, X)\n",
    "    result_matrix = matrix_form(A, B, X)\n",
    "    \n",
    "    print(\"\\nTest case 3 (X = Identity):\")\n",
    "    print(\"Maximum difference:\", jnp.max(jnp.abs(result_explicit - result_matrix)))\n",
    "    print(\"Are results equal?\", jnp.allclose(result_explicit, result_matrix))\n",
    "\n",
    "run_tests()"
   ]
  },
  {
   "cell_type": "code",
   "execution_count": 3,
   "metadata": {},
   "outputs": [
    {
     "name": "stdout",
     "output_type": "stream",
     "text": [
      "Test case 1 (Two matrices):\n",
      "Maximum difference: 2.3841858e-07\n",
      "Are results equal? True\n",
      "\n",
      "Test case 2 (Three matrices):\n",
      "Maximum difference: 2.3841858e-07\n",
      "Are results equal? True\n",
      "\n",
      "Test case 3 (Five matrices):\n",
      "Maximum difference: 1.9073486e-06\n",
      "Are results equal? True\n",
      "\n",
      "Test case 4 (Five matrices, X = Identity):\n",
      "Maximum difference: 1.9073486e-06\n",
      "Are results equal? True\n"
     ]
    }
   ],
   "source": [
    "import jax.numpy as jnp\n",
    "from jax import random\n",
    "import numpy as np\n",
    "from typing import List\n",
    "\n",
    "def explicit_form_n_matrices(matrices: List[jnp.ndarray], X: jnp.ndarray):\n",
    "    \"\"\"Compute result using element-wise explicit formula for n matrices\"\"\"\n",
    "    n = matrices[0].shape[0]\n",
    "    result = jnp.zeros((n, n))\n",
    "    \n",
    "    for i in range(n):\n",
    "        for j in range(n):\n",
    "            # Sum_k x_k * (sum_m m_ki * m_kj) where m is each matrix\n",
    "            element = 0\n",
    "            for k in range(n):\n",
    "                term = 0\n",
    "                for matrix in matrices:\n",
    "                    term += matrix[k,i] * matrix[k,j]\n",
    "                element += X[k,k] * term\n",
    "            result = result.at[i,j].set(element)\n",
    "    \n",
    "    return result\n",
    "\n",
    "def matrix_form_n_matrices(matrices: List[jnp.ndarray], X: jnp.ndarray):\n",
    "    \"\"\"Compute using matrix multiplication sum(M^T X M) for all matrices M\"\"\"\n",
    "    result = jnp.zeros_like(matrices[0])\n",
    "    for matrix in matrices:\n",
    "        result += matrix.T @ X @ matrix\n",
    "    return result\n",
    "\n",
    "def run_extended_tests():\n",
    "    key = random.PRNGKey(0)\n",
    "    \n",
    "    # Test case 1: Original two matrices\n",
    "    n = 3\n",
    "    key, subkey1, subkey2 = random.split(key, 3)\n",
    "    A = random.normal(subkey1, (n, n))\n",
    "    B = random.normal(subkey2, (n, n))\n",
    "    X = jnp.diag(random.uniform(key, (n,)))\n",
    "    \n",
    "    matrices = [A, B]\n",
    "    result_explicit = explicit_form_n_matrices(matrices, X)\n",
    "    result_matrix = matrix_form_n_matrices(matrices, X)\n",
    "    \n",
    "    print(\"Test case 1 (Two matrices):\")\n",
    "    print(\"Maximum difference:\", jnp.max(jnp.abs(result_explicit - result_matrix)))\n",
    "    print(\"Are results equal?\", jnp.allclose(result_explicit, result_matrix))\n",
    "    \n",
    "    # Test case 2: Three matrices\n",
    "    key, subkey1, subkey2, subkey3 = random.split(key, 4)\n",
    "    A = random.normal(subkey1, (n, n))\n",
    "    B = random.normal(subkey2, (n, n))\n",
    "    C = random.normal(subkey3, (n, n))\n",
    "    X = jnp.diag(random.uniform(key, (n,)))\n",
    "    \n",
    "    matrices = [A, B, C]\n",
    "    result_explicit = explicit_form_n_matrices(matrices, X)\n",
    "    result_matrix = matrix_form_n_matrices(matrices, X)\n",
    "    \n",
    "    print(\"\\nTest case 2 (Three matrices):\")\n",
    "    print(\"Maximum difference:\", jnp.max(jnp.abs(result_explicit - result_matrix)))\n",
    "    print(\"Are results equal?\", jnp.allclose(result_explicit, result_matrix))\n",
    "    \n",
    "    # Test case 3: Five matrices\n",
    "    n = 4  # slightly larger matrices\n",
    "    key, *subkeys = random.split(key, 6)\n",
    "    matrices = [random.normal(subkey, (n, n)) for subkey in subkeys]\n",
    "    X = jnp.diag(random.uniform(key, (n,)))\n",
    "    \n",
    "    result_explicit = explicit_form_n_matrices(matrices, X)\n",
    "    result_matrix = matrix_form_n_matrices(matrices, X)\n",
    "    \n",
    "    print(\"\\nTest case 3 (Five matrices):\")\n",
    "    print(\"Maximum difference:\", jnp.max(jnp.abs(result_explicit - result_matrix)))\n",
    "    print(\"Are results equal?\", jnp.allclose(result_explicit, result_matrix))\n",
    "    \n",
    "    # Test case 4: Special case with identity matrix for X\n",
    "    X = jnp.eye(n)\n",
    "    \n",
    "    result_explicit = explicit_form_n_matrices(matrices, X)\n",
    "    result_matrix = matrix_form_n_matrices(matrices, X)\n",
    "    \n",
    "    print(\"\\nTest case 4 (Five matrices, X = Identity):\")\n",
    "    print(\"Maximum difference:\", jnp.max(jnp.abs(result_explicit - result_matrix)))\n",
    "    print(\"Are results equal?\", jnp.allclose(result_explicit, result_matrix))\n",
    "\n",
    "if __name__ == \"__main__\":\n",
    "    run_extended_tests()"
   ]
  },
  {
   "cell_type": "code",
   "execution_count": null,
   "metadata": {},
   "outputs": [],
   "source": []
  }
 ],
 "metadata": {
  "kernelspec": {
   "display_name": "Python 3",
   "language": "python",
   "name": "python3"
  },
  "language_info": {
   "codemirror_mode": {
    "name": "ipython",
    "version": 3
   },
   "file_extension": ".py",
   "mimetype": "text/x-python",
   "name": "python",
   "nbconvert_exporter": "python",
   "pygments_lexer": "ipython3",
   "version": "3.12.7"
  }
 },
 "nbformat": 4,
 "nbformat_minor": 2
}
