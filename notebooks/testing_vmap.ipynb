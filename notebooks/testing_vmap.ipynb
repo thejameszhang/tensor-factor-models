{
 "cells": [
  {
   "cell_type": "code",
   "execution_count": 7,
   "metadata": {},
   "outputs": [
    {
     "name": "stdout",
     "output_type": "stream",
     "text": [
      "JAX is using device: cuda:0 [CudaDevice(id=0)]\n"
     ]
    }
   ],
   "source": [
    "import jax\n",
    "import jax.numpy as jnp\n",
    "import os\n",
    "jax.config.update(\"jax_enable_x64\", True)\n",
    "os.environ['CUDA_VISIBLE_DEVICES'] = \"1\" # Titan and FP64 mode\n",
    "jax.config.update('jax_platform_name', 'gpu')\n",
    "print(\"JAX is using device:\", jax.devices()[0], jax.devices())\n",
    "from functools import partial\n",
    "main_compute_device='gpu'\n",
    "\n",
    "@partial(jax.jit, backend=main_compute_device, static_argnums=(1, 2))\n",
    "def get_multiperiod_returns(X: jnp.ndarray, horizon: int, window_size: int):\n",
    "    \"\"\"\n",
    "    \"\"\"\n",
    "    @partial(jax.jit, backend=main_compute_device, static_argnums=(1,))\n",
    "    def _process(t: int, horizon: int):\n",
    "        # Original code\n",
    "        X_multi_s_temp = jnp.zeros(X.shape[2])\n",
    "        for l in range(horizon):\n",
    "            X_multi_s_temp += X[t+l, l, :]\n",
    "        return X_multi_s_temp\n",
    "\n",
    "        # @partial(jax.jit, backend=main_compute_device)\n",
    "        # def _cumulative(l: int):\n",
    "        #     return X[t+l, l, :] # is this indexing correct?\n",
    "\n",
    "        # return jnp.sum(jax.vmap(_cumulative)(jnp.arange(horizon)), axis=0) # dim: (num_ptf)\n",
    "        \n",
    "    X_multi = jax.vmap(_process, in_axes=(0, None))(jnp.arange(window_size - horizon + 1), horizon)\n",
    "    return X_multi # dim: (window_size - horizon + 1, num_ptf)"
   ]
  },
  {
   "cell_type": "code",
   "execution_count": 5,
   "metadata": {},
   "outputs": [],
   "source": [
    "X = jnp.arange(900).reshape((30, 10, 3))\n",
    "x = get_multiperiod_returns(X, 5, 20)"
   ]
  },
  {
   "cell_type": "code",
   "execution_count": 8,
   "metadata": {},
   "outputs": [],
   "source": [
    "y = get_multiperiod_returns(X, 5, 20)"
   ]
  },
  {
   "cell_type": "code",
   "execution_count": 10,
   "metadata": {},
   "outputs": [
    {
     "data": {
      "text/plain": [
       "(Array([[ 330,  335,  340],\n",
       "        [ 480,  485,  490],\n",
       "        [ 630,  635,  640],\n",
       "        [ 780,  785,  790],\n",
       "        [ 930,  935,  940],\n",
       "        [1080, 1085, 1090],\n",
       "        [1230, 1235, 1240],\n",
       "        [1380, 1385, 1390],\n",
       "        [1530, 1535, 1540],\n",
       "        [1680, 1685, 1690],\n",
       "        [1830, 1835, 1840],\n",
       "        [1980, 1985, 1990],\n",
       "        [2130, 2135, 2140],\n",
       "        [2280, 2285, 2290],\n",
       "        [2430, 2435, 2440],\n",
       "        [2580, 2585, 2590]], dtype=int64),\n",
       " Array([[ 330.,  335.,  340.],\n",
       "        [ 480.,  485.,  490.],\n",
       "        [ 630.,  635.,  640.],\n",
       "        [ 780.,  785.,  790.],\n",
       "        [ 930.,  935.,  940.],\n",
       "        [1080., 1085., 1090.],\n",
       "        [1230., 1235., 1240.],\n",
       "        [1380., 1385., 1390.],\n",
       "        [1530., 1535., 1540.],\n",
       "        [1680., 1685., 1690.],\n",
       "        [1830., 1835., 1840.],\n",
       "        [1980., 1985., 1990.],\n",
       "        [2130., 2135., 2140.],\n",
       "        [2280., 2285., 2290.],\n",
       "        [2430., 2435., 2440.],\n",
       "        [2580., 2585., 2590.]], dtype=float64))"
      ]
     },
     "execution_count": 10,
     "metadata": {},
     "output_type": "execute_result"
    }
   ],
   "source": [
    "x, y"
   ]
  },
  {
   "cell_type": "code",
   "execution_count": 6,
   "metadata": {},
   "outputs": [
    {
     "data": {
      "text/plain": [
       "(16, 3)"
      ]
     },
     "execution_count": 6,
     "metadata": {},
     "output_type": "execute_result"
    }
   ],
   "source": [
    "x.shape"
   ]
  },
  {
   "cell_type": "code",
   "execution_count": 5,
   "metadata": {},
   "outputs": [
    {
     "data": {
      "text/plain": [
       "(Array([[56.25, 63.75, 71.25],\n",
       "        [63.75, 72.25, 80.75],\n",
       "        [71.25, 80.75, 90.25]], dtype=float64),\n",
       " Array([[56.25, 63.75, 71.25],\n",
       "        [63.75, 72.25, 80.75],\n",
       "        [71.25, 80.75, 90.25]], dtype=float64))"
      ]
     },
     "execution_count": 5,
     "metadata": {},
     "output_type": "execute_result"
    }
   ],
   "source": [
    "T, N = 6, 3\n",
    "X = jnp.arange(18).reshape((T, N))\n",
    "Xbar = jnp.mean(X, axis=0)[..., None]\n",
    "code = X.T @ jnp.ones((T, T)) @ X / (T ** 2)\n",
    "paper = Xbar @ Xbar.T\n",
    "code, paper"
   ]
  },
  {
   "cell_type": "code",
   "execution_count": 27,
   "metadata": {},
   "outputs": [
    {
     "name": "stdout",
     "output_type": "stream",
     "text": [
      "[[[ 0  1]\n",
      "  [ 2  3]\n",
      "  [ 4  5]\n",
      "  [ 6  7]\n",
      "  [ 8  9]]\n",
      "\n",
      " [[10 11]\n",
      "  [12 13]\n",
      "  [14 15]\n",
      "  [16 17]\n",
      "  [18 19]]\n",
      "\n",
      " [[20 21]\n",
      "  [22 23]\n",
      "  [24 25]\n",
      "  [26 27]\n",
      "  [28 29]]]\n",
      "\n"
     ]
    },
    {
     "data": {
      "text/plain": [
       "Array([[0, 1],\n",
       "       [0, 1]], dtype=int64)"
      ]
     },
     "execution_count": 27,
     "metadata": {},
     "output_type": "execute_result"
    }
   ],
   "source": [
    "C = jnp.arange(30).reshape((3, 5, 2)) # Tx1xNxJ\n",
    "\n",
    "print(C)\n",
    "\n",
    "print() \n",
    "jnp.repeat(C, 2, axis=1).reshape(-1, 2)[:2]"
   ]
  },
  {
   "cell_type": "code",
   "execution_count": 2,
   "metadata": {},
   "outputs": [
    {
     "ename": "",
     "evalue": "",
     "output_type": "error",
     "traceback": [
      "\u001b[1;31mThe Kernel crashed while executing code in the current cell or a previous cell. \n",
      "\u001b[1;31mPlease review the code in the cell(s) to identify a possible cause of the failure. \n",
      "\u001b[1;31mClick <a href='https://aka.ms/vscodeJupyterKernelCrash'>here</a> for more info. \n",
      "\u001b[1;31mView Jupyter <a href='command:jupyter.viewOutput'>log</a> for further details."
     ]
    }
   ],
   "source": [
    "x = jnp.arange(12).reshape((3, 2, 2))\n",
    "y = jnp.arange(4).reshape((2, 2))\n",
    "x, y, x @ y, x[2, :, :] @ y"
   ]
  },
  {
   "cell_type": "code",
   "execution_count": 2,
   "metadata": {},
   "outputs": [],
   "source": [
    "x = jnp.arange(1000).reshape((10, 10, 10))"
   ]
  },
  {
   "cell_type": "code",
   "execution_count": 3,
   "metadata": {},
   "outputs": [
    {
     "data": {
      "text/plain": [
       "(10, 1, 10, 10)"
      ]
     },
     "execution_count": 3,
     "metadata": {},
     "output_type": "execute_result"
    }
   ],
   "source": [
    "x[:, jnp.newaxis].shape"
   ]
  },
  {
   "cell_type": "code",
   "execution_count": 16,
   "metadata": {},
   "outputs": [
    {
     "data": {
      "text/plain": [
       "(3, 10)"
      ]
     },
     "execution_count": 16,
     "metadata": {},
     "output_type": "execute_result"
    }
   ],
   "source": [
    "x, y, z = jnp.arange(10), jnp.zeros(10), jnp.full(10, 1)\n",
    "assert x.shape == y.shape == z.shape == (10,)\n",
    "\n",
    "jnp.array([x, y, z]).shape"
   ]
  },
  {
   "cell_type": "code",
   "execution_count": 4,
   "metadata": {},
   "outputs": [],
   "source": [
    "amt = 2\n",
    "def func(i: int):\n",
    "    # return jax.lax.dynamic_slice(x, (i, 0, 0), (amt, x.shape[1], x.shape[2])) # this works\n",
    "    # # return x[:, :i] -> this doesn't work\n",
    "    # return x[:, i] # this works\n",
    "    return x[i], x[:, i]\n",
    "\n",
    "def func3(i: int): # this doesn't work\n",
    "    return jax.lax.dynamic_slice(x, (0, 0, 0), (i, 2, 2))"
   ]
  },
  {
   "cell_type": "code",
   "execution_count": 10,
   "metadata": {},
   "outputs": [
    {
     "data": {
      "text/plain": [
       "(4, 10, 10)"
      ]
     },
     "execution_count": 10,
     "metadata": {},
     "output_type": "execute_result"
    }
   ],
   "source": [
    "jax.vmap(jax.jit(func))(jnp.arange(4))[1].shape"
   ]
  },
  {
   "cell_type": "code",
   "execution_count": 39,
   "metadata": {},
   "outputs": [
    {
     "data": {
      "text/plain": [
       "Array([[[200, 201, 202, 203, 204, 205, 206, 207, 208, 209],\n",
       "        [210, 211, 212, 213, 214, 215, 216, 217, 218, 219],\n",
       "        [220, 221, 222, 223, 224, 225, 226, 227, 228, 229],\n",
       "        [230, 231, 232, 233, 234, 235, 236, 237, 238, 239],\n",
       "        [240, 241, 242, 243, 244, 245, 246, 247, 248, 249],\n",
       "        [250, 251, 252, 253, 254, 255, 256, 257, 258, 259],\n",
       "        [260, 261, 262, 263, 264, 265, 266, 267, 268, 269],\n",
       "        [270, 271, 272, 273, 274, 275, 276, 277, 278, 279],\n",
       "        [280, 281, 282, 283, 284, 285, 286, 287, 288, 289],\n",
       "        [290, 291, 292, 293, 294, 295, 296, 297, 298, 299]],\n",
       "\n",
       "       [[300, 301, 302, 303, 304, 305, 306, 307, 308, 309],\n",
       "        [310, 311, 312, 313, 314, 315, 316, 317, 318, 319],\n",
       "        [320, 321, 322, 323, 324, 325, 326, 327, 328, 329],\n",
       "        [330, 331, 332, 333, 334, 335, 336, 337, 338, 339],\n",
       "        [340, 341, 342, 343, 344, 345, 346, 347, 348, 349],\n",
       "        [350, 351, 352, 353, 354, 355, 356, 357, 358, 359],\n",
       "        [360, 361, 362, 363, 364, 365, 366, 367, 368, 369],\n",
       "        [370, 371, 372, 373, 374, 375, 376, 377, 378, 379],\n",
       "        [380, 381, 382, 383, 384, 385, 386, 387, 388, 389],\n",
       "        [390, 391, 392, 393, 394, 395, 396, 397, 398, 399]]], dtype=int64)"
      ]
     },
     "execution_count": 39,
     "metadata": {},
     "output_type": "execute_result"
    }
   ],
   "source": [
    "x[2: 2 + 2]"
   ]
  },
  {
   "cell_type": "code",
   "execution_count": null,
   "metadata": {},
   "outputs": [],
   "source": [
    "jax.vmap(func3)(jnp.arange(4))"
   ]
  },
  {
   "cell_type": "code",
   "execution_count": 76,
   "metadata": {},
   "outputs": [],
   "source": [
    "def func2(x, y, z):\n",
    "    return x * y * z"
   ]
  },
  {
   "cell_type": "code",
   "execution_count": 87,
   "metadata": {},
   "outputs": [
    {
     "data": {
      "text/plain": [
       "(2, 3, 4)"
      ]
     },
     "execution_count": 87,
     "metadata": {},
     "output_type": "execute_result"
    }
   ],
   "source": [
    "# Create some example arrays\n",
    "x = jnp.arange(2)\n",
    "y = jnp.arange(3)\n",
    "z = jnp.arange(4)  \n",
    "result = jax.vmap(\n",
    "                jax.vmap(\n",
    "                    jax.vmap(func2, in_axes=(0, None, None)), \n",
    "                          in_axes=(None, 0, None)), \n",
    "                  in_axes=(None, None, 0))(x, y, z)\n",
    "result.T.shape"
   ]
  },
  {
   "cell_type": "code",
   "execution_count": 90,
   "metadata": {},
   "outputs": [
    {
     "data": {
      "text/plain": [
       "Array(6, dtype=int64)"
      ]
     },
     "execution_count": 90,
     "metadata": {},
     "output_type": "execute_result"
    }
   ],
   "source": [
    "result.T[1, 2, 3]"
   ]
  },
  {
   "cell_type": "markdown",
   "metadata": {},
   "source": [
    "# Figuring out where multiperiod tensor is going wrong"
   ]
  },
  {
   "cell_type": "code",
   "execution_count": 42,
   "metadata": {},
   "outputs": [],
   "source": [
    "old_dir_out = '/home/james/projects/tsfc/code/code_11092024/results_oos/multiperiod/char_anom/fig_onefit_oos_ret_rankptf_OLD/'\n",
    "new_dir_out = '/home/james/projects/tsfc/code/code_11092024/results_oos/multiperiod/char_anom/fig_onefit_oos_ret_rankptf_ver1/'"
   ]
  },
  {
   "cell_type": "code",
   "execution_count": 43,
   "metadata": {},
   "outputs": [],
   "source": [
    "old = jnp.load(old_dir_out + 'dict_tensor_oos.pkl', allow_pickle=True)"
   ]
  },
  {
   "cell_type": "code",
   "execution_count": 44,
   "metadata": {},
   "outputs": [
    {
     "data": {
      "text/plain": [
       "(424, 36, 1)"
      ]
     },
     "execution_count": 44,
     "metadata": {},
     "output_type": "execute_result"
    }
   ],
   "source": [
    "old[60]['approx'].shape\n"
   ]
  },
  {
   "cell_type": "code",
   "execution_count": 45,
   "metadata": {},
   "outputs": [],
   "source": [
    "new = jnp.load(new_dir_out + 'dict_tensor_oos.pkl', allow_pickle=True)"
   ]
  },
  {
   "cell_type": "code",
   "execution_count": 46,
   "metadata": {},
   "outputs": [
    {
     "data": {
      "text/plain": [
       "dict_keys([60, 120])"
      ]
     },
     "execution_count": 46,
     "metadata": {},
     "output_type": "execute_result"
    }
   ],
   "source": [
    "new.keys()"
   ]
  },
  {
   "cell_type": "code",
   "execution_count": 41,
   "metadata": {},
   "outputs": [
    {
     "data": {
      "text/plain": [
       "array([ 0.26586869, -0.1375646 , -0.11688133, -0.05469675, -0.11060408,\n",
       "       -0.00474746,  0.05297104,  0.0812726 ,  0.06946345,  0.05595748,\n",
       "        0.05070685,  0.06058645,  0.06319361,  0.0677459 ,  0.07374066,\n",
       "        0.0906491 ,  0.07144239,  0.0853263 ,  0.09467011,  0.0985097 ,\n",
       "        0.09526684,  0.09153597,  0.08991615,  0.0825991 ,  0.07421113,\n",
       "        0.073383  ,  0.0689493 ,  0.07282168,  0.07114158,  0.07422516,\n",
       "        0.07274161,  0.07263801,  0.07260948,  0.06824501,  0.06482834,\n",
       "        0.06555689])"
      ]
     },
     "execution_count": 41,
     "metadata": {},
     "output_type": "execute_result"
    }
   ],
   "source": [
    "old[60]['approx'][10, :, 0]"
   ]
  },
  {
   "cell_type": "code",
   "execution_count": 40,
   "metadata": {},
   "outputs": [
    {
     "data": {
      "text/plain": [
       "Array([ 0.20209107, -0.22513146, -0.13195244, -0.09189276, -0.14681543,\n",
       "       -0.02986694,  0.03005314,  0.06473527,  0.05789063,  0.02526836,\n",
       "        0.02014191,  0.03507391,  0.04802269,  0.05709412,  0.07550301,\n",
       "        0.09473983,  0.07983973,  0.08493292,  0.09220442,  0.09344366,\n",
       "        0.09566973,  0.09897536,  0.10259195,  0.08929108,  0.08310274,\n",
       "        0.08547789,  0.08391242,  0.09076013,  0.0883622 ,  0.09477864,\n",
       "        0.09725928,  0.10259348,  0.10706987,  0.10440189,  0.10658692,\n",
       "        0.11039967], dtype=float64)"
      ]
     },
     "execution_count": 40,
     "metadata": {},
     "output_type": "execute_result"
    }
   ],
   "source": [
    "new[60][10, :, 2]"
   ]
  },
  {
   "cell_type": "code",
   "execution_count": 8,
   "metadata": {},
   "outputs": [],
   "source": [
    "import pandas as pd\n",
    "import numpy as np\n",
    "from orig.tl_parafac_fix_intercept import parafac_fix_intercept\n",
    "from orig.utils_tensor import get_normalized_factors\n",
    "from tfm.parafac_jax import parafac_enhanced, normalize_factors\n",
    "max_lag = 60\n",
    "dir_input = '/home/james/projects/tsfc/code/code_11092024/organized_data/organized_data/char_anom'"
   ]
  },
  {
   "cell_type": "code",
   "execution_count": 9,
   "metadata": {},
   "outputs": [],
   "source": [
    "X = jnp.load(f'{dir_input}/mat_ptf_re_lag_{max_lag}.npz')['mat_ptf_re_rank']\n",
    "params = jnp.load(f'{dir_input}/dict_param_lag_{max_lag}.pkl', allow_pickle=True)\n",
    "bin_labels, all_dates = params['lst_char'], params['all_dates']\n",
    "T = len(all_dates)\n",
    "start_date_oos = pd.to_datetime('2000-01-01')\n",
    "start_date = all_dates[0]\n",
    "dates_fit = all_dates[all_dates < start_date_oos]\n",
    "dates_oos = all_dates[all_dates >= start_date_oos]\n",
    "T_fit = len(dates_fit)\n",
    "T_oos = len(dates_oos)\n",
    "\n",
    "\n",
    "X_log = jnp.log(1 + X)\n",
    "assert not jnp.isnan(X_log).any()"
   ]
  },
  {
   "cell_type": "code",
   "execution_count": 10,
   "metadata": {},
   "outputs": [],
   "source": [
    "idx_window = 2\n",
    "K = 3\n",
    "window_size = 60"
   ]
  },
  {
   "cell_type": "code",
   "execution_count": 11,
   "metadata": {},
   "outputs": [],
   "source": [
    "X_fit_old = X_log[idx_window:idx_window+window_size]\n",
    "\n",
    "X_fit_new = jax.lax.dynamic_slice(X_log, \n",
    "        start_indices=(idx_window, 0, 0), slice_sizes=(window_size, X_log.shape[1], X.shape[2]))"
   ]
  },
  {
   "cell_type": "code",
   "execution_count": 12,
   "metadata": {},
   "outputs": [
    {
     "data": {
      "text/plain": [
       "Array(True, dtype=bool)"
      ]
     },
     "execution_count": 12,
     "metadata": {},
     "output_type": "execute_result"
    }
   ],
   "source": [
    "jnp.array_equal(X_fit_new, X_fit_old)"
   ]
  },
  {
   "cell_type": "code",
   "execution_count": 14,
   "metadata": {},
   "outputs": [],
   "source": [
    "decomp= parafac_fix_intercept(X_fit_old,\n",
    "        rank=K, \n",
    "        verbose=False,\n",
    "        random_state=np.random.RandomState(100),\n",
    "        return_errors=False,\n",
    "        n_iter_max=100\n",
    "        )\n",
    "\n",
    "dict_fit=dict(zip(['F','W','B'], decomp.factors))\n",
    "dict_fit['S']=decomp.weights\n",
    "dict_fit = get_normalized_factors(dict_fit, reorder=True)\n",
    "F, W, B, S=[dict_fit[key] for key in ['F','W','B','S']]"
   ]
  },
  {
   "cell_type": "code",
   "execution_count": 29,
   "metadata": {},
   "outputs": [],
   "source": [
    "F_next=np.full((36, K), np.nan)\n",
    "for idx_h in range(36):\n",
    "    X_next=X_log[idx_window+window_size+idx_h]\n",
    "    X_next_flatten=X_next.reshape(1,-1)\n",
    "    Z_fit=np.full((K, X_log.shape[2] * 60),np.nan)\n",
    "    for i in range(K):\n",
    "        Z_fit[i]=np.kron(W[:,i], B[:,i]) * S[i]\n",
    "    mat_weight_flatten=Z_fit.T@np.linalg.inv(Z_fit@Z_fit.T) # dim: (num_char*args.max_lag, K+1)\n",
    "    F_next[idx_h,:]=X_next_flatten@mat_weight_flatten"
   ]
  },
  {
   "cell_type": "code",
   "execution_count": 30,
   "metadata": {},
   "outputs": [
    {
     "data": {
      "text/plain": [
       "(36, 3)"
      ]
     },
     "execution_count": 30,
     "metadata": {},
     "output_type": "execute_result"
    }
   ],
   "source": [
    "F_next.shape"
   ]
  },
  {
   "cell_type": "code",
   "execution_count": 17,
   "metadata": {},
   "outputs": [],
   "source": [
    "weights, factors = parafac_enhanced(\n",
    "    tensor=X_fit_new,\n",
    "    rank=K,\n",
    "    random_state=100,\n",
    "    n_iter_max=100,\n",
    ")\n",
    "\n",
    "# Extract and normalize factors\n",
    "factors = dict(zip(['F','W','B'], factors))\n",
    "factors['S'] = weights\n",
    "factors = normalize_factors(factors, reorder=True)\n",
    "FF, WW, BB, SS=[dict_fit[key] for key in ['F','W','B','S']]"
   ]
  },
  {
   "cell_type": "code",
   "execution_count": 18,
   "metadata": {},
   "outputs": [],
   "source": [
    "assert jnp.array_equal(FF, F)\n",
    "assert jnp.array_equal(WW, W)\n",
    "assert jnp.array_equal(BB, B)\n",
    "assert jnp.array_equal(SS, S)"
   ]
  },
  {
   "cell_type": "code",
   "execution_count": 26,
   "metadata": {},
   "outputs": [],
   "source": [
    "@jax.jit\n",
    "def compute_Z_row(i: int):\n",
    "    \"\"\"Compute Z_fit for all K components at once\"\"\"\n",
    "    return jnp.kron(factors['W'][:, i], factors['B'][:, i]) * factors['S'][i]\n",
    "\n",
    "@jax.jit\n",
    "def get_F_next(idx_h: int):\n",
    "    \"\"\"\n",
    "    Get F_next for the next args.max_horizon periods by regressing X_next on tensor loadings\n",
    "    \"\"\"\n",
    "    X_next_new = X_log[idx_window + window_size + idx_h] # this is fine\n",
    "    X_next_flatten_new = X_next_new.reshape(1, -1)\n",
    "    Z_fit_new = jax.vmap(compute_Z_row)(jnp.arange(K))\n",
    "    mat_weight_flatten_new = Z_fit_new.T @ jnp.linalg.inv(Z_fit_new @ Z_fit_new.T) # dim: (num_char*args.max_lag, K+1)\n",
    "    F_next_new = X_next_flatten_new @ mat_weight_flatten_new\n",
    "    return jnp.squeeze(F_next_new, axis=0)"
   ]
  },
  {
   "cell_type": "code",
   "execution_count": 27,
   "metadata": {},
   "outputs": [
    {
     "data": {
      "text/plain": [
       "(36, 3)"
      ]
     },
     "execution_count": 27,
     "metadata": {},
     "output_type": "execute_result"
    }
   ],
   "source": [
    "F_next_new = jax.vmap(get_F_next)(jnp.arange(36)) # dim: (args.max_horizon, K)\n",
    "F_next_new.shape"
   ]
  },
  {
   "cell_type": "code",
   "execution_count": 33,
   "metadata": {},
   "outputs": [
    {
     "data": {
      "text/plain": [
       "(np.float64(-0.0439232686598585), Array(-0.04392327, dtype=float64))"
      ]
     },
     "execution_count": 33,
     "metadata": {},
     "output_type": "execute_result"
    }
   ],
   "source": [
    "F_next[0, 0], F_next_new[0, 0]"
   ]
  },
  {
   "cell_type": "code",
   "execution_count": 34,
   "metadata": {},
   "outputs": [
    {
     "data": {
      "text/plain": [
       "Array(True, dtype=bool)"
      ]
     },
     "execution_count": 34,
     "metadata": {},
     "output_type": "execute_result"
    }
   ],
   "source": [
    "jnp.allclose(F_next, F_next_new)"
   ]
  },
  {
   "cell_type": "code",
   "execution_count": 35,
   "metadata": {},
   "outputs": [],
   "source": [
    "FW=np.full((K, window_size, 60), np.nan)\n",
    "for idx_k in range(K):\n",
    "    FW[idx_k]=(F[:,idx_k][:,np.newaxis]@W[:,idx_k][np.newaxis,:]).cumsum(axis=1)"
   ]
  },
  {
   "cell_type": "code",
   "execution_count": 36,
   "metadata": {},
   "outputs": [
    {
     "data": {
      "text/plain": [
       "(3, 60, 60)"
      ]
     },
     "execution_count": 36,
     "metadata": {},
     "output_type": "execute_result"
    }
   ],
   "source": [
    "FW.shape"
   ]
  },
  {
   "cell_type": "code",
   "execution_count": 37,
   "metadata": {},
   "outputs": [],
   "source": [
    "@jax.jit\n",
    "def get_multiperiod_return(idx_k: int):\n",
    "    \"\"\"Get approximate multiperiod return in the window\"\"\"\n",
    "    return jnp.cumsum(factors['F'][:, idx_k][:, jnp.newaxis] @ factors['W'][:, idx_k][jnp.newaxis, :], axis=1)\n",
    "\n",
    "FW_new = jax.vmap(get_multiperiod_return)(jnp.arange(K)) # dim: (K, window_size, args.max_lag)"
   ]
  },
  {
   "cell_type": "code",
   "execution_count": 39,
   "metadata": {},
   "outputs": [
    {
     "data": {
      "text/plain": [
       "Array(True, dtype=bool)"
      ]
     },
     "execution_count": 39,
     "metadata": {},
     "output_type": "execute_result"
    }
   ],
   "source": [
    "jnp.allclose(FW, FW_new)"
   ]
  },
  {
   "cell_type": "code",
   "execution_count": 40,
   "metadata": {},
   "outputs": [],
   "source": [
    "@jax.jit\n",
    "def get_cov_approx(idx_s: int):\n",
    "    \"\"\"Approximate covariance matrix at all lookback times up to max lag.\"\"\"\n",
    "    return jnp.cov(FW_new[:, :, idx_s], bias=True)\n",
    "\n",
    "# 1. Approximate calculation\n",
    "mu_FW_approx_new = jnp.mean(FW_new, axis=1).T # dim: (args.max_lag, K)\n",
    "cov_FW_approx_new = jax.vmap(get_cov_approx)(jnp.arange(max_lag)) # dim: (args.max_lag, K, K)"
   ]
  },
  {
   "cell_type": "code",
   "execution_count": 41,
   "metadata": {},
   "outputs": [],
   "source": [
    "dict_mv = {}\n",
    "mu_FW=np.mean(FW, axis=1).T # dim: (args.max_lag, K)\n",
    "# note that FW has no time-series correlation in approx calc, because cumsum is over dimension W, not over F\n",
    "cov_FW=np.full((60, K, K),np.nan)\n",
    "for idx_s in range(60):\n",
    "    s = idx_s+1\n",
    "    # if args.fit_rx and idx_s==0:\n",
    "    #     continue\n",
    "    cov_FW[idx_s]=np.cov(FW[:,:,idx_s],bias=True)\n",
    "dict_mv['approx'] = {'mu_FW':mu_FW, 'cov_FW':cov_FW}"
   ]
  },
  {
   "cell_type": "code",
   "execution_count": 43,
   "metadata": {},
   "outputs": [
    {
     "data": {
      "text/plain": [
       "(Array(True, dtype=bool), Array(True, dtype=bool))"
      ]
     },
     "execution_count": 43,
     "metadata": {},
     "output_type": "execute_result"
    }
   ],
   "source": [
    "jnp.allclose(mu_FW, mu_FW_approx_new), jnp.allclose(cov_FW, cov_FW_approx_new)"
   ]
  },
  {
   "cell_type": "code",
   "execution_count": 46,
   "metadata": {},
   "outputs": [],
   "source": [
    "FW_next = (F_next*W[:36, :]).cumsum(axis=0) # is this right ????"
   ]
  },
  {
   "cell_type": "code",
   "execution_count": 45,
   "metadata": {},
   "outputs": [],
   "source": [
    "FW_next_new = (F_next_new * factors['W'][:36, :]).cumsum(axis=0) # dim: (args.max_horizon, K)"
   ]
  },
  {
   "cell_type": "code",
   "execution_count": 47,
   "metadata": {},
   "outputs": [
    {
     "data": {
      "text/plain": [
       "Array(True, dtype=bool)"
      ]
     },
     "execution_count": 47,
     "metadata": {},
     "output_type": "execute_result"
    }
   ],
   "source": [
    "jnp.allclose(FW_next, FW_next_new)"
   ]
  },
  {
   "cell_type": "code",
   "execution_count": 48,
   "metadata": {},
   "outputs": [
    {
     "data": {
      "text/plain": [
       "array([-0.08145847,  0.13723988,  0.05761139,  0.17902112,  0.15863615,\n",
       "        0.12708652,  0.17338235,  0.21906271,  0.21421067,  0.18467738,\n",
       "        0.16657185,  0.16181734,  0.13734626,  0.14162367,  0.14923172,\n",
       "        0.15327623,  0.14486802,  0.14530172,  0.13610477,  0.13588948,\n",
       "        0.12961858,  0.12477082,  0.12377667,  0.12666162,  0.11505657,\n",
       "        0.12126238,  0.12371712,  0.12352596,  0.11828099,  0.11398455,\n",
       "        0.11068705,  0.10913654,  0.10564515,  0.10543698,  0.10311003,\n",
       "        0.10283237])"
      ]
     },
     "execution_count": 48,
     "metadata": {},
     "output_type": "execute_result"
    }
   ],
   "source": [
    "       \n",
    "mv_weight=np.full((36, K), np.nan)\n",
    "for idx_s in range(36):\n",
    "    # if args.fit_rx and idx_s==0:\n",
    "    #     continue\n",
    "    #print(calc_type, idx_s, cov_FW[idx_s])\n",
    "    mv_weight[idx_s]=np.linalg.inv(cov_FW[idx_s])@mu_FW[idx_s]\n",
    "# dict_mat_ret_tensor_oos[calc_type][idx_window, :, idx_K] =\\\n",
    "x = (FW_next * mv_weight[:36]).sum(axis=1) # dim: (args.max_horizon, )\n",
    "x"
   ]
  },
  {
   "cell_type": "code",
   "execution_count": 49,
   "metadata": {},
   "outputs": [],
   "source": [
    "@jax.jit\n",
    "def get_multihorizon_and_ptf_returns():\n",
    "    # Get OOS multi-horizon return FW - is this right?\n",
    "    FW_next_new = (F_next * factors['W'][:36, :]).cumsum(axis=0) # dim: (args.max_horizon, K)\n",
    "\n",
    "    def get_mv_weights(idx_s: int):\n",
    "        if K > 1:\n",
    "            return jnp.linalg.inv(cov_FW_approx_new[idx_s]) @ mu_FW_approx_new[idx_s]\n",
    "        else:\n",
    "            return jnp.mean(mu_FW_approx_new) / jnp.var(cov_FW_approx_new)\n",
    "    \n",
    "    mv_weights = jax.vmap(get_mv_weights)(jnp.arange(36)) # dim: (args.max_horizon, K)\n",
    "    return (FW_next_new * mv_weights[:36]).sum(axis=1) # dim: (args.max_horizon)\n",
    "\n",
    "ptf_returns = get_multihorizon_and_ptf_returns()"
   ]
  },
  {
   "cell_type": "code",
   "execution_count": 50,
   "metadata": {},
   "outputs": [
    {
     "data": {
      "text/plain": [
       "Array(True, dtype=bool)"
      ]
     },
     "execution_count": 50,
     "metadata": {},
     "output_type": "execute_result"
    }
   ],
   "source": [
    "jnp.allclose(ptf_returns, x)"
   ]
  },
  {
   "cell_type": "code",
   "execution_count": null,
   "metadata": {},
   "outputs": [],
   "source": []
  }
 ],
 "metadata": {
  "kernelspec": {
   "display_name": "Python 3",
   "language": "python",
   "name": "python3"
  },
  "language_info": {
   "codemirror_mode": {
    "name": "ipython",
    "version": 3
   },
   "file_extension": ".py",
   "mimetype": "text/x-python",
   "name": "python",
   "nbconvert_exporter": "python",
   "pygments_lexer": "ipython3",
   "version": "3.12.7"
  }
 },
 "nbformat": 4,
 "nbformat_minor": 2
}
